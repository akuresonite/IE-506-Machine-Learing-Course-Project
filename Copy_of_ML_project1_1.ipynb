{
  "cells": [
    {
      "cell_type": "code",
      "execution_count": null,
      "metadata": {
        "colab": {
          "base_uri": "https://localhost:8080/",
          "height": 423
        },
        "id": "ckRn5tutAnnc",
        "outputId": "559ed8cb-3e5e-4f86-f4f0-16b7b1b213ad"
      },
      "outputs": [],
      "source": [
        "import pandas as pd\n",
        "import numpy as np\n",
        "from matplotlib import pyplot as plt\n",
        "\n",
        "df = pd.read_csv(\"E:\\Sem 2_project\\ML\\project\\code\\data.csv\")\n",
        "df"
      ]
    },
    {
      "cell_type": "code",
      "execution_count": null,
      "metadata": {
        "colab": {
          "base_uri": "https://localhost:8080/",
          "height": 485
        },
        "id": "sIO3Wy4nA-AQ",
        "outputId": "eba39b00-4f33-42d9-d0c0-9394bb284d76"
      },
      "outputs": [],
      "source": [
        "x, y = df.x, df.y\n",
        "plt.scatter(x,y, cmap=df.z)"
      ]
    },
    {
      "cell_type": "code",
      "execution_count": null,
      "metadata": {
        "colab": {
          "base_uri": "https://localhost:8080/"
        },
        "id": "lFsSM0LNCHFB",
        "outputId": "a72e8988-78ec-459e-8a86-08c992efa2ca"
      },
      "outputs": [],
      "source": [
        "D = df.iloc[:,:2].to_numpy()\n",
        "D"
      ]
    },
    {
      "cell_type": "code",
      "execution_count": null,
      "metadata": {
        "colab": {
          "base_uri": "https://localhost:8080/"
        },
        "id": "ow3ASDgJ6UAi",
        "outputId": "0384a5bb-bedd-411a-f88f-bad476adf0f8"
      },
      "outputs": [],
      "source": [
        "# !pip install cvxpy"
      ]
    },
    {
      "cell_type": "markdown",
      "metadata": {
        "id": "OESbnecHhHB9"
      },
      "source": [
        "## Data set"
      ]
    },
    {
      "cell_type": "code",
      "execution_count": null,
      "metadata": {
        "id": "aRVLNiqQhI4p"
      },
      "outputs": [],
      "source": [
        "import numpy as np\n",
        "\n",
        "# Define the dimensions\n",
        "m, ni, no, r = 5, 3, 2, 4\n",
        "M1, M2 = m, ni + no\n",
        "\n",
        "# Create random matrices A, B, N\n",
        "A = np.random.rand(m, ni)\n",
        "B = np.random.rand(m, no)\n",
        "N = np.random.rand(m, ni)\n",
        "\n",
        "# Create a permutation matrix T\n",
        "T = np.eye(M2)\n",
        "np.random.shuffle(T)\n",
        "\n",
        "# Concatenate B(A+N)\n",
        "D = np.hstack((B, A + N))\n",
        "\n",
        "# Apply the permutation matrix\n",
        "D = np.dot(D, T)\n"
      ]
    },
    {
      "cell_type": "code",
      "execution_count": null,
      "metadata": {
        "colab": {
          "base_uri": "https://localhost:8080/"
        },
        "id": "-irwBRoShnpL",
        "outputId": "42324b78-08a8-4045-92b5-67b3212f498a"
      },
      "outputs": [],
      "source": [
        "B,(A + N),D"
      ]
    },
    {
      "cell_type": "markdown",
      "metadata": {
        "id": "nRJV_yPpjUtX"
      },
      "source": [
        "## permutation Matrix"
      ]
    },
    {
      "cell_type": "code",
      "execution_count": null,
      "metadata": {
        "colab": {
          "base_uri": "https://localhost:8080/"
        },
        "id": "EN5R1h35iMSg",
        "outputId": "326f2270-a823-42f8-b175-3e2c09178e49"
      },
      "outputs": [],
      "source": [
        "import numpy as np\n",
        "\n",
        "# Original matrix D\n",
        "v = np.array([[1, 2, 3],\n",
        "              [4, 5, 6],\n",
        "              [7, 8, 9]])\n",
        "\n",
        "print(\"Original Matrix D:\")\n",
        "print(v)\n",
        "\n",
        "# Permutation matrix T\n",
        "t = np.array([[0, 1, 0],\n",
        "              [0, 0, 1],\n",
        "              [1, 0, 0]])\n",
        "\n",
        "print(\"\\nPermutation Matrix T:\")\n",
        "print(t)\n",
        "print(v @ t.T)"
      ]
    },
    {
      "cell_type": "code",
      "execution_count": null,
      "metadata": {
        "id": "MF0wZ_i0Cw-7"
      },
      "outputs": [],
      "source": [
        "import numpy as np\n",
        "from sklearn.decomposition import TruncatedSVD\n",
        "\n",
        "# Sample Data Matrix D (Replace this with actual data)\n",
        "\n",
        "# Step 1: Data Preprocessing\n",
        "svd = TruncatedSVD(n_components=2);\n",
        "Q = svd.fit_transform(D);\n",
        "D_new = Q.T @ D;\n",
        "\n",
        "# Normalizing l-2 norm (optional based on requirement)\n",
        "column_norms = np.linalg.norm(D_new, axis=0);\n",
        "D_new = D_new/column_norms;"
      ]
    },
    {
      "cell_type": "code",
      "execution_count": null,
      "metadata": {
        "colab": {
          "base_uri": "https://localhost:8080/"
        },
        "id": "zlblwWBQ6Jae",
        "outputId": "270dc311-f158-46e9-ad3d-fbd99be1d40c"
      },
      "outputs": [],
      "source": [
        "import numpy as np\n",
        "from sklearn.decomposition import TruncatedSVD\n",
        "\n",
        "# Sample Data Matrix D (Replace this with actual data)\n",
        "D = np.random.rand(3, 3);                     print('>> D:\\n', D)\n",
        "\n",
        "# Step 1: Data Preprocessing\n",
        "svd = TruncatedSVD(n_components=2);           print('\\n>> svd object:\\n', svd)\n",
        "Q = svd.fit_transform(D);                     print('\\n>> Q:\\n', Q)\n",
        "D_new = Q.T @ D;                              print('\\n>> D_new (Q.T @ D):\\n', D_new)\n",
        "\n",
        "# Normalizing l-2 norm (optional based on requirement)\n",
        "column_norms = np.linalg.norm(D_new, axis=0); print('\\n>> column_norms:\\n', column_norms)\n",
        "D_new = D_new/column_norms;                   print('\\n>> D_new:\\n', D_new)"
      ]
    },
    {
      "cell_type": "code",
      "execution_count": null,
      "metadata": {
        "colab": {
          "base_uri": "https://localhost:8080/",
          "height": 142
        },
        "id": "DXkKTL8BZdH5",
        "outputId": "f4ba21e6-375a-4c48-9de9-46f0c58d50d9"
      },
      "outputs": [],
      "source": [
        "U, S, Vh = np.linalg.svd(D, full_matrices=False, compute_uv=True)\n",
        "display(U)\n",
        "display(S)\n",
        "display(Vh)"
      ]
    },
    {
      "cell_type": "code",
      "execution_count": null,
      "metadata": {
        "colab": {
          "base_uri": "https://localhost:8080/"
        },
        "id": "dz9B8-uD6ilP",
        "outputId": "f8b92f01-bd3e-4516-aa43-aad6b6c3746f"
      },
      "outputs": [],
      "source": [
        "import cvxpy as cp # ADMM solver\n",
        "import numpy as np\n",
        "\n",
        "# Assuming D_new is your data matrix after preprocessing (2,3)\n",
        "M1, M2 = D_new.shape;                                             print('>> M1, M2:\\n', D_new.shape)\n",
        "# This should be the number of non-zero singular values\n",
        "rd = M1;                                                          #print('\\n>> rd:\\n', M1)\n",
        "\n",
        "# Variable to be solved for\n",
        "C = cp.Variable((rd, M2));                                        #print('\\n>> C:\\n', C)\n",
        "\n",
        "# Defining the constraints\n",
        "constraints = [cp.diag(C.T @ D_new) == 1];                        #print('\\n>> constraints:\\n', constraints)\n",
        "\n",
        "# Defining the objective function\n",
        "objective = cp.Minimize(cp.norm(C.T @ D_new, 1));                 #print('\\n>> objective:\\n', objective)\n",
        "\n",
        "# Defining the problem\n",
        "problem = cp.Problem(objective, constraints);                     #print('\\n>> problem:\\n', problem)\n",
        "\n",
        "# Solving the problem using ADMM solver\n",
        "# Solving the problem using SCS solver (which uses ADMM)\n",
        "problem.solve(solver=cp.SCS)\n",
        "\n",
        "# problem.solve(solver=cp.ADMM)\n",
        "\n",
        "# The optimal value for C\n",
        "C_star = C.value;     print('\\n>> C_star:\\n', C.value)\n",
        "print('\\n>> C_star shape:\\n', C_star.shape)"
      ]
    },
    {
      "cell_type": "code",
      "execution_count": null,
      "metadata": {
        "colab": {
          "base_uri": "https://localhost:8080/"
        },
        "id": "dDyNSxJ0DOpR",
        "outputId": "803d26ac-f1e8-4cd1-a46d-56fc1df22f3e"
      },
      "outputs": [],
      "source": [
        "import cvxpy as cp # ADMM solver\n",
        "import numpy as np\n",
        "\n",
        "# Assuming D_new is your data matrix after preprocessing (2,3)\n",
        "M1, M2 = D.shape;                                             print('>> M1, M2:\\n', D_new.shape)\n",
        "# This should be the number of non-zero singular values\n",
        "rd = M1;                                                          #print('\\n>> rd:\\n', M1)\n",
        "\n",
        "# Variable to be solved for\n",
        "C = cp.Variable((rd, M2));                                        #print('\\n>> C:\\n', C)\n",
        "\n",
        "# Defining the constraints\n",
        "constraints = [cp.diag(C.T @ D) == 1];                        #print('\\n>> constraints:\\n', constraints)\n",
        "\n",
        "# Defining the objective function\n",
        "objective = cp.Minimize(cp.norm(C.T @ D, 1));                 #print('\\n>> objective:\\n', objective)\n",
        "\n",
        "# Defining the problem\n",
        "problem = cp.Problem(objective, constraints);                     #print('\\n>> problem:\\n', problem)\n",
        "\n",
        "# Solving the problem using ADMM solver\n",
        "# Solving the problem using SCS solver (which uses ADMM)\n",
        "problem.solve(solver=cp.SCS)\n",
        "\n",
        "# problem.solve(solver=cp.ADMM)\n",
        "\n",
        "# The optimal value for C\n",
        "C_star = C.value;     print('\\n>> C_star:\\n', C.value)\n",
        "print('\\n>> C_star shape:\\n', C_star.shape)"
      ]
    },
    {
      "cell_type": "code",
      "execution_count": null,
      "metadata": {
        "colab": {
          "base_uri": "https://localhost:8080/"
        },
        "id": "cJ4Ap_lTKXou",
        "outputId": "89df67aa-7594-4155-9d95-f394d5d45c7f"
      },
      "outputs": [],
      "source": [
        "# Compute the innovation values\n",
        "x = 1 / np.linalg.norm(D.T @ C_star, axis=1);  print('>> x:\\n', x)"
      ]
    },
    {
      "cell_type": "markdown",
      "metadata": {
        "id": "qmjdAGOMuthH"
      },
      "source": [
        "# $\\text{3.1 An Illustrative Example for Innovation Value}$"
      ]
    },
    {
      "cell_type": "code",
      "execution_count": null,
      "metadata": {
        "colab": {
          "base_uri": "https://localhost:8080/"
        },
        "id": "mT9A62ZxvZkX",
        "outputId": "feb0fee1-f593-4122-e8de-be9af3db0169"
      },
      "outputs": [],
      "source": [
        "import numpy as np\n",
        "from sklearn.decomposition import TruncatedSVD\n",
        "\n",
        "# Sample Data Matrix D (Replace this with actual data)\n",
        "D = np.random.rand(20, 250);                     print('>> D:\\n', D)\n",
        "\n",
        "# Step 1: Data Preprocessing\n",
        "svd = TruncatedSVD(n_components=250);           print('\\n>> svd object:\\n', svd)\n",
        "Q = svd.fit_transform(D);                     print('\\n>> Q:\\n', Q)\n",
        "D_new = Q.T @ D;                              print('\\n>> D_new (Q.T @ D):\\n', D_new, D_new.shape)\n",
        "\n",
        "# Normalizing l-2 norm (opti`onal based on requirement)\n",
        "column_norms = np.linalg.norm(D_new, axis=0); print('\\n>> column_norms:\\n', column_norms)\n",
        "D_new = D_new/column_norms;                   print('\\n>> D_new:\\n', D_new, D_new.shape)"
      ]
    },
    {
      "cell_type": "code",
      "execution_count": null,
      "metadata": {},
      "outputs": [],
      "source": [
        "D_new.shape"
      ]
    },
    {
      "cell_type": "code",
      "execution_count": null,
      "metadata": {
        "colab": {
          "base_uri": "https://localhost:8080/"
        },
        "id": "tuchcnFmvoUa",
        "outputId": "cdeaf15b-51b5-4670-9649-55bbc3c4901d"
      },
      "outputs": [],
      "source": [
        "import cvxpy as cp # ADMM solver\n",
        "import numpy as np\n",
        "\n",
        "# Assuming D_new is your data matrix after preprocessing (2,3)\n",
        "M1, M2 = D_new.shape;                                             print('>> M1, M2:\\n', D_new.shape)\n",
        "# This should be the number of non-zero singular values\n",
        "rd = M1;                                                          #print('\\n>> rd:\\n', M1)\n",
        "\n",
        "# Variable to be solved for\n",
        "C = cp.Variable((rd, M2));                                        #print('\\n>> C:\\n', C)\n",
        "\n",
        "# Defining the constraints\n",
        "constraints = [cp.diag(C.T @ D_new) == 1];                        #print('\\n>> constraints:\\n', constraints)\n",
        "\n",
        "# Defining the objective function\n",
        "objective = cp.Minimize(cp.norm(C.T @ D_new, 1));                 #print('\\n>> objective:\\n', objective)\n",
        "\n",
        "# Defining the problem\n",
        "problem = cp.Problem(objective, constraints);                     #print('\\n>> problem:\\n', problem)\n",
        "\n",
        "# Solving the problem using ADMM solver\n",
        "# Solving the problem using SCS solver (which uses ADMM)\n",
        "problem.solve(solver=cp.SCS)\n",
        "\n",
        "# problem.solve(solver=cp.ADMM)\n",
        "\n",
        "# The optimal value for C\n",
        "C_star = C.value;     print('\\n>> C_star:\\n', C.value)\n",
        "print('\\n>> C_star shape:\\n', C_star.shape)"
      ]
    },
    {
      "cell_type": "code",
      "execution_count": null,
      "metadata": {
        "colab": {
          "base_uri": "https://localhost:8080/"
        },
        "id": "GsHEWWtvC-By",
        "outputId": "bde28894-f6c1-4c31-dc82-8f3f245946df"
      },
      "outputs": [],
      "source": [
        "min(C_star[0]), max(C_star[0]), min(C_star[1]), max(C_star[1]), min(C_star[2]), max(C_star[2])"
      ]
    },
    {
      "cell_type": "code",
      "execution_count": null,
      "metadata": {
        "id": "V09ttvpWvpuo"
      },
      "outputs": [],
      "source": [
        "# Compute the innovation values\n",
        "x = 1 / np.linalg.norm(D_new.T @ C_star, axis=1);  print('>> x:\\n', x)"
      ]
    },
    {
      "cell_type": "code",
      "execution_count": null,
      "metadata": {
        "colab": {
          "base_uri": "https://localhost:8080/",
          "height": 448
        },
        "id": "NSrjZubSCD5p",
        "outputId": "215bc88a-53f5-4afb-8264-511dc697387f"
      },
      "outputs": [],
      "source": [
        "plt.figure(figsize=(19,5))\n",
        "\n",
        "plt.subplot(1,2,1)\n",
        "plt.stem(np.arange(0,250), (C_star.T @ D_new)[:,0], linefmt ='blue', markerfmt ='D')\n",
        "\n",
        "plt.subplot(1,2,2)\n",
        "plt.stem(np.arange(0,250), x, linefmt ='blue', markerfmt ='D')"
      ]
    },
    {
      "cell_type": "markdown",
      "metadata": {},
      "source": [
        "##"
      ]
    },
    {
      "cell_type": "markdown",
      "metadata": {},
      "source": [
        "# $\\text{3.1 Synthetic numerical example}$"
      ]
    },
    {
      "cell_type": "code",
      "execution_count": 2,
      "metadata": {},
      "outputs": [
        {
          "name": "stdout",
          "output_type": "stream",
          "text": [
            "Collecting seaborn\n",
            "  Downloading seaborn-0.13.2-py3-none-any.whl (294 kB)\n",
            "\u001b[K     |████████████████████████████████| 294 kB 12.3 MB/s eta 0:00:01\n",
            "\u001b[?25hCollecting pandas>=1.2\n",
            "  Downloading pandas-2.2.1-cp39-cp39-manylinux_2_17_x86_64.manylinux2014_x86_64.whl (13.0 MB)\n",
            "\u001b[K     |████████████████████████████████| 13.0 MB 35.9 MB/s eta 0:00:01\n",
            "\u001b[?25hCollecting matplotlib!=3.6.1,>=3.4\n",
            "  Downloading matplotlib-3.8.3-cp39-cp39-manylinux_2_17_x86_64.manylinux2014_x86_64.whl (11.6 MB)\n",
            "\u001b[K     |████████████████████████████████| 11.6 MB 36.5 MB/s eta 0:00:01\n",
            "\u001b[?25hCollecting numpy!=1.24.0,>=1.20\n",
            "  Downloading numpy-1.26.4-cp39-cp39-manylinux_2_17_x86_64.manylinux2014_x86_64.whl (18.2 MB)\n",
            "\u001b[K     |████████████████████████████████| 18.2 MB 145.8 MB/s eta 0:00:01\n",
            "\u001b[?25hRequirement already satisfied: pillow>=8 in /usr/lib/python3/dist-packages (from matplotlib!=3.6.1,>=3.4->seaborn) (8.1.2)\n",
            "Collecting importlib-resources>=3.2.0\n",
            "  Downloading importlib_resources-6.4.0-py3-none-any.whl (38 kB)\n",
            "Collecting contourpy>=1.0.1\n",
            "  Downloading contourpy-1.2.0-cp39-cp39-manylinux_2_17_x86_64.manylinux2014_x86_64.whl (310 kB)\n",
            "\u001b[K     |████████████████████████████████| 310 kB 148.0 MB/s eta 0:00:01\n",
            "\u001b[?25hCollecting fonttools>=4.22.0\n",
            "  Downloading fonttools-4.50.0-cp39-cp39-manylinux_2_17_x86_64.manylinux2014_x86_64.whl (4.6 MB)\n",
            "\u001b[K     |████████████████████████████████| 4.6 MB 132.3 MB/s eta 0:00:01\n",
            "\u001b[?25hRequirement already satisfied: python-dateutil>=2.7 in /usr/lib/python3/dist-packages (from matplotlib!=3.6.1,>=3.4->seaborn) (2.8.1)\n",
            "Requirement already satisfied: cycler>=0.10 in /usr/lib/python3/dist-packages (from matplotlib!=3.6.1,>=3.4->seaborn) (0.10.0)\n",
            "Requirement already satisfied: kiwisolver>=1.3.1 in /usr/lib/python3/dist-packages (from matplotlib!=3.6.1,>=3.4->seaborn) (1.3.1)\n",
            "Requirement already satisfied: packaging>=20.0 in /usr/lib/python3/dist-packages (from matplotlib!=3.6.1,>=3.4->seaborn) (20.9)\n",
            "Requirement already satisfied: pyparsing>=2.3.1 in /usr/lib/python3/dist-packages (from matplotlib!=3.6.1,>=3.4->seaborn) (2.4.7)\n",
            "Collecting zipp>=3.1.0\n",
            "  Downloading zipp-3.18.1-py3-none-any.whl (8.2 kB)\n",
            "Collecting tzdata>=2022.7\n",
            "  Downloading tzdata-2024.1-py2.py3-none-any.whl (345 kB)\n",
            "\u001b[K     |████████████████████████████████| 345 kB 138.9 MB/s eta 0:00:01\n",
            "\u001b[?25hRequirement already satisfied: pytz>=2020.1 in /usr/lib/python3/dist-packages (from pandas>=1.2->seaborn) (2021.1)\n",
            "Collecting python-dateutil>=2.7\n",
            "  Downloading python_dateutil-2.9.0.post0-py2.py3-none-any.whl (229 kB)\n",
            "\u001b[K     |████████████████████████████████| 229 kB 148.9 MB/s eta 0:00:01\n",
            "\u001b[?25hRequirement already satisfied: six>=1.5 in /usr/lib/python3/dist-packages (from python-dateutil>=2.7->matplotlib!=3.6.1,>=3.4->seaborn) (1.16.0)\n",
            "Installing collected packages: zipp, numpy, tzdata, python-dateutil, importlib-resources, fonttools, contourpy, pandas, matplotlib, seaborn\n",
            "Successfully installed contourpy-1.2.0 fonttools-4.50.0 importlib-resources-6.4.0 matplotlib-3.8.3 numpy-1.26.4 pandas-2.2.1 python-dateutil-2.9.0.post0 seaborn-0.13.2 tzdata-2024.1 zipp-3.18.1\n"
          ]
        }
      ],
      "source": [
        "!pip install seaborn"
      ]
    },
    {
      "cell_type": "code",
      "execution_count": 4,
      "metadata": {},
      "outputs": [
        {
          "ename": "ModuleNotFoundError",
          "evalue": "No module named 'seaborn'",
          "output_type": "error",
          "traceback": [
            "\u001b[0;31m---------------------------------------------------------------------------\u001b[0m",
            "\u001b[0;31mModuleNotFoundError\u001b[0m                       Traceback (most recent call last)",
            "\u001b[0;32m<ipython-input-4-b625650c82f1>\u001b[0m in \u001b[0;36m<module>\u001b[0;34m\u001b[0m\n\u001b[1;32m      1\u001b[0m \u001b[0;32mimport\u001b[0m \u001b[0mnumpy\u001b[0m \u001b[0;32mas\u001b[0m \u001b[0mnp\u001b[0m\u001b[0;34m\u001b[0m\u001b[0;34m\u001b[0m\u001b[0m\n\u001b[0;32m----> 2\u001b[0;31m \u001b[0;32mimport\u001b[0m \u001b[0mseaborn\u001b[0m \u001b[0;32mas\u001b[0m \u001b[0msn\u001b[0m\u001b[0;34m\u001b[0m\u001b[0;34m\u001b[0m\u001b[0m\n\u001b[0m\u001b[1;32m      3\u001b[0m \u001b[0;32mimport\u001b[0m \u001b[0mmatplotlib\u001b[0m\u001b[0;34m.\u001b[0m\u001b[0mpyplot\u001b[0m \u001b[0;32mas\u001b[0m \u001b[0mplt\u001b[0m\u001b[0;34m\u001b[0m\u001b[0;34m\u001b[0m\u001b[0m\n\u001b[1;32m      4\u001b[0m \u001b[0;32mimport\u001b[0m \u001b[0mnumpy\u001b[0m \u001b[0;32mas\u001b[0m \u001b[0mnp\u001b[0m\u001b[0;34m\u001b[0m\u001b[0;34m\u001b[0m\u001b[0m\n\u001b[1;32m      5\u001b[0m \u001b[0;32mfrom\u001b[0m \u001b[0msklearn\u001b[0m\u001b[0;34m.\u001b[0m\u001b[0mdecomposition\u001b[0m \u001b[0;32mimport\u001b[0m \u001b[0mTruncatedSVD\u001b[0m\u001b[0;34m\u001b[0m\u001b[0;34m\u001b[0m\u001b[0m\n",
            "\u001b[0;31mModuleNotFoundError\u001b[0m: No module named 'seaborn'"
          ]
        }
      ],
      "source": [
        "import numpy as np \n",
        "import seaborn as sn \n",
        "import matplotlib.pyplot as plt \n",
        "import numpy as np\n",
        "from sklearn.decomposition import TruncatedSVD"
      ]
    },
    {
      "cell_type": "code",
      "execution_count": null,
      "metadata": {},
      "outputs": [
        {
          "name": "stdout",
          "output_type": "stream",
          "text": [
            ">> D(20, 250):\n",
            "\n"
          ]
        }
      ],
      "source": [
        "# Create random matrices A, B, N\n",
        "A = np.random.rand(20, 200);                     #print(f'>> A{A.shape}:\\n', A)\n",
        "B = 100*np.random.rand(20, 50);                   #print(f'>> B{B.shape}:\\n', B)\n",
        "N = 0.9*np.random.rand(20, 200);\n",
        "\n",
        "# Concatenate B(A+N)\n",
        "D = np.hstack((B, A + N));   print(f'>> D{D.shape}:\\n')"
      ]
    },
    {
      "cell_type": "code",
      "execution_count": null,
      "metadata": {},
      "outputs": [
        {
          "data": {
            "image/png": "[encoded data removed]",
            "text/plain": [
              "<Figure size 1900x1000 with 2 Axes>"
            ]
          },
          "metadata": {},
          "output_type": "display_data"
        }
      ],
      "source": [
        "# plotting the heatmap \n",
        "plt.figure(figsize=(19,10))\n",
        "hm = sn.heatmap(data = D)"
      ]
    },
    {
      "cell_type": "code",
      "execution_count": null,
      "metadata": {},
      "outputs": [
        {
          "data": {
            "text/plain": [
              "(20, 250)"
            ]
          },
          "execution_count": 5,
          "metadata": {},
          "output_type": "execute_result"
        }
      ],
      "source": [
        "D.shape"
      ]
    },
    {
      "cell_type": "code",
      "execution_count": null,
      "metadata": {},
      "outputs": [
        {
          "ename": "ValueError",
          "evalue": "n_components must be < n_features; got 250 >= 250",
          "output_type": "error",
          "traceback": [
            "\u001b[0;31m---------------------------------------------------------------------------\u001b[0m",
            "\u001b[0;31mValueError\u001b[0m                                Traceback (most recent call last)",
            "\u001b[0;32m/tmp/ipykernel_151086/1335992744.py\u001b[0m in \u001b[0;36m<module>\u001b[0;34m\u001b[0m\n\u001b[1;32m      4\u001b[0m \u001b[0;31m# Step 1: Data Preprocessing\u001b[0m\u001b[0;34m\u001b[0m\u001b[0;34m\u001b[0m\u001b[0m\n\u001b[1;32m      5\u001b[0m \u001b[0msvd\u001b[0m \u001b[0;34m=\u001b[0m \u001b[0mTruncatedSVD\u001b[0m\u001b[0;34m(\u001b[0m\u001b[0mn_components\u001b[0m\u001b[0;34m=\u001b[0m\u001b[0;36m250\u001b[0m\u001b[0;34m)\u001b[0m\u001b[0;34m;\u001b[0m         \u001b[0;31m#  print('\\n>> svd object:\\n', svd)\u001b[0m\u001b[0;34m\u001b[0m\u001b[0;34m\u001b[0m\u001b[0m\n\u001b[0;32m----> 6\u001b[0;31m \u001b[0mQ\u001b[0m \u001b[0;34m=\u001b[0m \u001b[0msvd\u001b[0m\u001b[0;34m.\u001b[0m\u001b[0mfit_transform\u001b[0m\u001b[0;34m(\u001b[0m\u001b[0mD\u001b[0m\u001b[0;34m)\u001b[0m\u001b[0;34m;\u001b[0m                    \u001b[0;31m# print('\\n>> Q:\\n', Q)\u001b[0m\u001b[0;34m\u001b[0m\u001b[0;34m\u001b[0m\u001b[0m\n\u001b[0m\u001b[1;32m      7\u001b[0m \u001b[0mD_new\u001b[0m \u001b[0;34m=\u001b[0m \u001b[0mQ\u001b[0m\u001b[0;34m.\u001b[0m\u001b[0mT\u001b[0m \u001b[0;34m@\u001b[0m \u001b[0mD\u001b[0m\u001b[0;34m;\u001b[0m                             \u001b[0;31m# print('\\n>> D_new (Q.T @ D):\\n', D_new, D_new.shape)\u001b[0m\u001b[0;34m\u001b[0m\u001b[0;34m\u001b[0m\u001b[0m\n\u001b[1;32m      8\u001b[0m \u001b[0;34m\u001b[0m\u001b[0m\n",
            "\u001b[0;32m/opt/anaconda3/lib/python3.9/site-packages/sklearn/decomposition/_truncated_svd.py\u001b[0m in \u001b[0;36mfit_transform\u001b[0;34m(self, X, y)\u001b[0m\n\u001b[1;32m    205\u001b[0m             \u001b[0mn_features\u001b[0m \u001b[0;34m=\u001b[0m \u001b[0mX\u001b[0m\u001b[0;34m.\u001b[0m\u001b[0mshape\u001b[0m\u001b[0;34m[\u001b[0m\u001b[0;36m1\u001b[0m\u001b[0;34m]\u001b[0m\u001b[0;34m\u001b[0m\u001b[0;34m\u001b[0m\u001b[0m\n\u001b[1;32m    206\u001b[0m             \u001b[0;32mif\u001b[0m \u001b[0mk\u001b[0m \u001b[0;34m>=\u001b[0m \u001b[0mn_features\u001b[0m\u001b[0;34m:\u001b[0m\u001b[0;34m\u001b[0m\u001b[0;34m\u001b[0m\u001b[0m\n\u001b[0;32m--> 207\u001b[0;31m                 raise ValueError(\n\u001b[0m\u001b[1;32m    208\u001b[0m                     \u001b[0;34m\"n_components must be < n_features; got %d >= %d\"\u001b[0m \u001b[0;34m%\u001b[0m \u001b[0;34m(\u001b[0m\u001b[0mk\u001b[0m\u001b[0;34m,\u001b[0m \u001b[0mn_features\u001b[0m\u001b[0;34m)\u001b[0m\u001b[0;34m\u001b[0m\u001b[0;34m\u001b[0m\u001b[0m\n\u001b[1;32m    209\u001b[0m                 )\n",
            "\u001b[0;31mValueError\u001b[0m: n_components must be < n_features; got 250 >= 250"
          ]
        }
      ],
      "source": [
        "import numpy as np\n",
        "from sklearn.decomposition import TruncatedSVD\n",
        "\n",
        "# Step 1: Data Preprocessing\n",
        "svd = TruncatedSVD(n_components=250);         #  print('\\n>> svd object:\\n', svd)\n",
        "Q = svd.fit_transform(D);                    # print('\\n>> Q:\\n', Q)\n",
        "D_new = Q.T @ D;                             # print('\\n>> D_new (Q.T @ D):\\n', D_new, D_new.shape)\n",
        "\n",
        "# Normalizing l-2 norm (opti`onal based on requirement)\n",
        "# column_norms = np.linalg.norm(D_new, axis=0); #print('\\n>> column_norms:\\n', column_norms)\n",
        "# D_new = D_new/column_norms;                   #print('\\n>> D_new:\\n', D_new, D_new.shape)\n",
        "\n",
        "print(f'>> D_new{D_new.shape}')"
      ]
    },
    {
      "cell_type": "code",
      "execution_count": null,
      "metadata": {},
      "outputs": [],
      "source": [
        "# plotting the heatmap \n",
        "plt.figure(figsize=(19,10))\n",
        "hm = sn.heatmap(data = D_new)"
      ]
    },
    {
      "cell_type": "code",
      "execution_count": null,
      "metadata": {},
      "outputs": [],
      "source": [
        "import cvxpy as cp # ADMM solver\n",
        "\n",
        "# Assuming D_new is your data matrix after preprocessing (2,3)\n",
        "M1, M2 = D_new.shape;                                             #print('>> M1, M2:\\n', D_new.shape)\n",
        "# This should be the number of non-zero singular values\n",
        "rd = M1;                                                          #print('\\n>> rd:\\n', M1)\n",
        "\n",
        "# Variable to be solved for\n",
        "C = cp.Variable((rd, M2));                                        #print('\\n>> C:\\n', C)\n",
        "\n",
        "# Defining the constraints\n",
        "constraints = [cp.diag(C.T @ D_new) == 1];                        #print('\\n>> constraints:\\n', constraints)\n",
        "\n",
        "# Defining the objective function\n",
        "objective = cp.Minimize(cp.norm(C.T @ D_new, 1));                 #print('\\n>> objective:\\n', objective)\n",
        "\n",
        "# Defining the problem\n",
        "problem = cp.Problem(objective, constraints);                     #print('\\n>> problem:\\n', problem)\n",
        "\n",
        "# Solving the problem using ADMM solver\n",
        "# Solving the problem using SCS solver (which uses ADMM)\n",
        "problem.solve(solver=cp.SCS)\n",
        "\n",
        "# problem.solve(solver=cp.ADMM)\n",
        "\n",
        "# The optimal value for C\n",
        "C_star = C.value;     #print('\\n>> C_star:\\n', C.value)\n",
        "print('\\n>> C_star shape:\\n', C_star.shape)"
      ]
    },
    {
      "cell_type": "code",
      "execution_count": null,
      "metadata": {},
      "outputs": [],
      "source": [
        "# Compute the innovation values\n",
        "x = 1 / np.linalg.norm(D_new.T @ C_star, axis=1);  print('>> x:\\n', x)\n",
        "print(f'>> x{x.shape}')"
      ]
    },
    {
      "cell_type": "code",
      "execution_count": null,
      "metadata": {},
      "outputs": [],
      "source": [
        "plt.plot(x)"
      ]
    },
    {
      "cell_type": "code",
      "execution_count": null,
      "metadata": {},
      "outputs": [],
      "source": [
        "from matplotlib import pyplot as plt\n",
        "plt.figure(figsize=(19,5))\n",
        "\n",
        "plt.subplot(1,3,1)\n",
        "plt.stem(np.arange(0,250), np.hstack([(C_star.T @ D_new)[0,:50], np.zeros(200)]), linefmt ='blue', markerfmt ='+')\n",
        "\n",
        "plt.subplot(1,3,2)\n",
        "plt.stem(np.arange(0,250), (C_star.T @ D_new)[0,:], linefmt ='blue', markerfmt ='+')\n",
        "\n",
        "plt.subplot(1,3,3)\n",
        "plt.stem(np.arange(0,250), x, linefmt ='blue', markerfmt ='+')"
      ]
    },
    {
      "cell_type": "code",
      "execution_count": null,
      "metadata": {},
      "outputs": [],
      "source": [
        "D_new.shape"
      ]
    },
    {
      "cell_type": "code",
      "execution_count": null,
      "metadata": {},
      "outputs": [],
      "source": [
        "import pandas as pd\n",
        "pd.DataFrame(D_new)"
      ]
    },
    {
      "cell_type": "code",
      "execution_count": null,
      "metadata": {},
      "outputs": [],
      "source": [
        "# importing the modules \n",
        "import numpy as np \n",
        "import seaborn as sn \n",
        "import matplotlib.pyplot as plt \n",
        "\n",
        "# generating 2-D 10x10 matrix of random numbers \n",
        "# from 1 to 100 \n",
        "data = D_new\n",
        "print(\"The data to be plotted:\\n\") \n",
        "print(data) \n",
        "\n",
        "# plotting the heatmap \n",
        "plt.figure(figsize=(19,10))\n",
        "hm = sn.heatmap(data = data) \n",
        "\n",
        "\n",
        "# displaying the plotted heatmap \n",
        "plt.show()\n"
      ]
    }
  ],
  "metadata": {
    "colab": {
      "provenance": []
    },
    "kernelspec": {
      "display_name": "Python 3",
      "name": "python3"
    },
    "language_info": {
      "codemirror_mode": {
        "name": "ipython",
        "version": 3
      },
      "file_extension": ".py",
      "mimetype": "text/x-python",
      "name": "python",
      "nbconvert_exporter": "python",
      "pygments_lexer": "ipython3",
      "version": "3.9.2"
    }
  },
  "nbformat": 4,
  "nbformat_minor": 0
}
